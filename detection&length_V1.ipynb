{
 "cells": [
  {
   "cell_type": "code",
   "execution_count": 24,
   "metadata": {},
   "outputs": [],
   "source": [
    "import cv2\n",
    "# import tensorflow\n",
    "# import keras\n",
    "# from keras.models import load_model\n",
    "# from scipy.spatial import distance as dist\n",
    "import numpy as np\n",
    "import matplotlib as plt\n",
    "import os"
   ]
  },
  {
   "cell_type": "code",
   "execution_count": 25,
   "metadata": {},
   "outputs": [],
   "source": [
    "def find_length(img,pix_width):\n",
    "    os.chdir('C:/Users/deepa/Downloads')\n",
    "    if (len(img)<3):\n",
    "        img = img\n",
    "    else:\n",
    "        img = cv2.cvtColor(img, cv2.COLOR_BGR2GRAY)\n",
    "    cv2.imshow(\"Original\",img)\n",
    "    cv2.imwrite('Original_1.png',img)\n",
    "    cv2.waitKey(0)\n",
    "    cv2.destroyAllWindows()\n",
    "    cv2.waitKey(1)\n",
    "    gray = cv2.GaussianBlur(img, (7, 7), 0)\n",
    "    img = cv2.Canny(gray, 50, 100)\n",
    "    cv2.imshow(\"Blur & Canny\",img)\n",
    "    cv2.imwrite('Blur & Canny_2.png',img)\n",
    "    cv2.waitKey(0)\n",
    "    cv2.destroyAllWindows()\n",
    "    cv2.waitKey(1)\n",
    "    img = cv2.dilate(img, None, iterations=1)\n",
    "    cv2.imshow(\"dialate\",img)\n",
    "    cv2.imwrite('dialate_3.png',img)\n",
    "    cv2.waitKey(0)\n",
    "    cv2.destroyAllWindows()\n",
    "    cv2.waitKey(1)\n",
    "    nb_components, output, stats, centroids = cv2.connectedComponentsWithStats(img, connectivity=4)\n",
    "    sizes = stats[1:, -1]; nb_components = nb_components - 1\n",
    "    # minimum size of particles we want to keep (number of pixels)\n",
    "    #can be changed to mean of blob sizes etc,..\n",
    "    min_size = 800\n",
    "    #Create a template of same size to put the required pixels on it\n",
    "    img2 = np.zeros((output.shape))\n",
    "    for i in range(0, nb_components):\n",
    "        if sizes[i] >= min_size:\n",
    "            img2[output == i + 1] = 255\n",
    "    #Save the image\n",
    "    cv2.imwrite('test.png',img2)\n",
    "    cv2.imwrite('template_4.png',img2)\n",
    "    cv2.imshow(\"tempalte\",img2)\n",
    "    cv2.waitKey(0)\n",
    "    cv2.destroyAllWindows()\n",
    "    cv2.waitKey(1)\n",
    "    #Erode to null the dilute effect\n",
    "    img = cv2.erode(img2, None, iterations=1)\n",
    "    #read the image with only crack\n",
    "    img2 = cv2.imread('C:/Users/deepa/Downloads/test.png')\n",
    "    # orig = cv2.imread('/home/spartan/Desktop/Cracks/16.jpg')\n",
    "    #Bitwise and on the original image to give only crack part\n",
    "    img3 = cv2.bitwise_and(img2,orig)\n",
    "    img3 = cv2.cvtColor(img3, cv2.COLOR_BGR2GRAY)\n",
    "    img3 = cv2.dilate(img3, None, iterations=3)\n",
    "    cv2.imshow(\"Original\",img3)\n",
    "    cv2.waitKey(0)\n",
    "    cv2.destroyAllWindows()\n",
    "    cv2.waitKey(1)\n",
    "    # cnts = cv2.findContours(gray.copy(), cv2.RETR_EXTERNAL,\n",
    "    #                         cv2.CHAIN_APPROX_SIMPLE)\n",
    "    ret,thresh = cv2.threshold(img3,127,255,0)\n",
    "    _,contours,hierarchy = cv2.findContours(thresh, 1, 2)\n",
    "    n=len(contours)-1\n",
    "    cnt = contours[n]\n",
    "    print(len(contours))\n",
    "    # print(cnt)\n",
    "    (x,y),radius = cv2.minEnclosingCircle(cnt)\n",
    "    center = (int(x),int(y))\n",
    "    radius = int(radius)\n",
    "    cv2.circle(orig,center,radius,(255,255,255),2)\n",
    "    crack_length = radius*2*pix_width\n",
    "    cv2.imwrite('circle_5.png',orig)\n",
    "    print('Length of crack is ',crack_length,' centimeters')\n",
    "    font = cv2.FONT_HERSHEY_SIMPLEX\n",
    "    cv2.putText(orig,str(crack_length)+\" pxls\",(150,150),font,0.5,(0,255,255),2,cv2.LINE_AA)\n",
    "    cv2.imshow(\"length\",orig)\n",
    "    cv2.imwrite('Length_6.png',orig)\n",
    "    cv2.waitKey(0)\n",
    "    cv2.destroyAllWindows()\n",
    "    cv2.waitKey(1)\n",
    "    return orig,crack_length"
   ]
  },
  {
   "cell_type": "code",
   "execution_count": 26,
   "metadata": {},
   "outputs": [
    {
     "name": "stdout",
     "output_type": "stream",
     "text": [
      "5\n",
      "Length of crack is  294  centimeters\n",
      "length of crack is  294  cm\n"
     ]
    },
    {
     "data": {
      "text/plain": [
       "-1"
      ]
     },
     "execution_count": 26,
     "metadata": {},
     "output_type": "execute_result"
    }
   ],
   "source": [
    "img = 'C:/Users/deepa/Downloads/test_1.jpg'\n",
    "img = cv2.imread(img)\n",
    "orig = img\n",
    "pix_wid = 1\n",
    "img = img[:227,:227]\n",
    "img,crack_length = find_length(orig, pix_wid)\n",
    "print('length of crack is ',crack_length,' cm')\n",
    "cv2.imshow(\"Imageop\",img)\n",
    "cv2.waitKey(0)\n",
    "cv2.destroyAllWindows()\n",
    "cv2.waitKey(1)"
   ]
  },
  {
   "cell_type": "code",
   "execution_count": 31,
   "metadata": {},
   "outputs": [
    {
     "name": "stdout",
     "output_type": "stream",
     "text": [
      "1/1 [==============================] - 0s 348ms/step\n",
      "cracked\n",
      "22\n",
      "Length of crack is  470  centimeters\n",
      "length of crack is  470  cm\n"
     ]
    }
   ],
   "source": [
    "img = '/home/spartan/Desktop/Cracks/Train_img/9.jpg'\n",
    "img = cv2.imread(img)\n",
    "orig = img\n",
    "pix_wid = 1\n",
    "img=img[:227,:227]\n",
    "# print(img.shape)\n",
    "model = load_model('/home/spartan/Desktop/Cracks/model.h5')\n",
    "# img=img_preprocess(img)\n",
    "# img=img.reshape(277,277,1)\n",
    "\n",
    "if(len(img.shape)<3):\n",
    "#         img = cv2.resize(img, (128,128)) #To match the NVIDIA model architecture\n",
    "    img = img.reshape(1,227,227,1)\n",
    "    img = img/255\n",
    "else:\n",
    "    img = img.astype('uint8')\n",
    "    img = cv2.cvtColor(img,cv2.COLOR_RGB2GRAY)\n",
    "#     cv2.imshow(\"Edge\",img)\n",
    "#     cv2.waitKey(0)\n",
    "#     cv2.destroyAllWindows()\n",
    "#     cv2.waitKey(1)\n",
    "#         img = cv2.GaussianBlur(img,(3,3),0) #o deviation of kernal, kernal size (3,3)\n",
    "#         img = cv2.resize(img, (128,128)) #To match the NVIDIA model architecture\n",
    "    img = img.reshape(1,227,227,1)\n",
    "    img = img/255\n",
    "\n",
    "result = model.predict(img, batch_size=None, verbose=1, steps=None)\n",
    "re = result[0]\n",
    "if re[0]>re[1]:\n",
    "    print('cracked')\n",
    "    img,crack_length = find_length(orig, pix_wid)\n",
    "    print('length of crack is ',crack_length,' cm')\n",
    "    cv2.imshow(\"Imageop\",img)\n",
    "    cv2.waitKey(0)\n",
    "    cv2.destroyAllWindows()\n",
    "    cv2.waitKey(1)\n",
    "    \n",
    "else:\n",
    "    print('no crack')"
   ]
  },
  {
   "cell_type": "code",
   "execution_count": 20,
   "metadata": {},
   "outputs": [
    {
     "name": "stdout",
     "output_type": "stream",
     "text": [
      "4\n",
      "Length of crack is  212  centimeters\n",
      "length of crack is  212  cm\n"
     ]
    },
    {
     "data": {
      "text/plain": [
       "-1"
      ]
     },
     "execution_count": 20,
     "metadata": {},
     "output_type": "execute_result"
    }
   ],
   "source": []
  },
  {
   "cell_type": "code",
   "execution_count": null,
   "metadata": {},
   "outputs": [],
   "source": []
  }
 ],
 "metadata": {
  "kernelspec": {
   "display_name": "Python 3",
   "language": "python",
   "name": "python3"
  },
  "language_info": {
   "codemirror_mode": {
    "name": "ipython",
    "version": 3
   },
   "file_extension": ".py",
   "mimetype": "text/x-python",
   "name": "python",
   "nbconvert_exporter": "python",
   "pygments_lexer": "ipython3",
   "version": "3.7.1"
  }
 },
 "nbformat": 4,
 "nbformat_minor": 2
}
